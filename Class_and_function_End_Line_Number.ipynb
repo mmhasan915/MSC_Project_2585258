{
 "cells": [
  {
   "cell_type": "code",
   "execution_count": 1,
   "id": "9bd6cf75-1311-417b-9120-1fbc4d2dc16d",
   "metadata": {},
   "outputs": [],
   "source": [
    "import re\n",
    "import inspect\n",
    "import work as wp"
   ]
  },
  {
   "cell_type": "code",
   "execution_count": 2,
   "id": "ce81fc09-5eb7-4d3f-aea1-c8b56b78f606",
   "metadata": {},
   "outputs": [],
   "source": [
    "file = \"work.py\"   \n",
    "with open(file, \"r\") as f:\n",
    "    content = f.read()"
   ]
  },
  {
   "cell_type": "code",
   "execution_count": 3,
   "id": "a3809a94-390b-427d-bad2-7acd5fe86eba",
   "metadata": {},
   "outputs": [
    {
     "name": "stdout",
     "output_type": "stream",
     "text": [
      "8 QueryStatus\n",
      "29 QueryResult\n"
     ]
    }
   ],
   "source": [
    "q = re.compile('class ([A-Za-z0-9_]+)(.*)')\n",
    "class_list = []\n",
    "for m in q.finditer(content):\n",
    "    #print(m.group(0))\n",
    "    \n",
    "    start = m.start()\n",
    "    lineno = content.count('\\n', 0, start) + 1 \n",
    "    word = m.group(1)\n",
    "    class_list.append(word)\n",
    "    print (lineno, word)"
   ]
  },
  {
   "cell_type": "code",
   "execution_count": 7,
   "id": "cb25484a-fc20-421f-bc63-ccfe49eb82f0",
   "metadata": {},
   "outputs": [
    {
     "name": "stdout",
     "output_type": "stream",
     "text": [
      "Lines: 8 27\n",
      "QueryStatus\n",
      "Lines: 29 89\n",
      "QueryResult\n"
     ]
    }
   ],
   "source": [
    "for i in class_list:\n",
    "    object_of_the_class = getattr(wp,i)\n",
    "    lines,line_start = inspect.getsourcelines(object_of_the_class)\n",
    "    print(\"Lines:\",line_start,line_start+len(lines) - 1 )\n",
    "    list_of_methods = inspect.getmembers(j , predicate=inspect.isfunction)\n",
    "    print(i)"
   ]
  },
  {
   "cell_type": "code",
   "execution_count": 8,
   "id": "fa589ae6-ccc8-460d-b9ef-ec234b4fa7c3",
   "metadata": {},
   "outputs": [
    {
     "name": "stdout",
     "output_type": "stream",
     "text": [
      "18 __str__\n",
      "34 __init__\n",
      "73 __str__\n"
     ]
    }
   ],
   "source": [
    "q = re.compile('def ([A-Za-z0-9_]+)(.*)')\n",
    "func_list =[]\n",
    "for m in q.finditer(content):\n",
    "    #print(m.group(0)) \n",
    "    start = m.start()\n",
    "    lineno = content.count('\\n', 0, start) + 1\n",
    "    offset = start - content.rfind('\\n', 0, start)\n",
    "    word = m.group(1)\n",
    "    func_list.append(word)\n",
    "    print (lineno, word)"
   ]
  },
  {
   "cell_type": "code",
   "execution_count": 9,
   "id": "e132aa1d-cad5-4971-b8e3-c9cd28f3909b",
   "metadata": {},
   "outputs": [
    {
     "name": "stdout",
     "output_type": "stream",
     "text": [
      "Lines: 18 27\n",
      "Lines: 18 27\n",
      "Lines: 18 27\n"
     ]
    }
   ],
   "source": [
    "for i in func_list:\n",
    "    j = getattr(wp.QueryStatus,'__str__')\n",
    "    lines,line_start = inspect.getsourcelines(j)\n",
    "    print(\"Lines:\",line_start,line_start+len(lines) - 1 )"
   ]
  },
  {
   "cell_type": "code",
   "execution_count": null,
   "id": "fc808c45-c11a-4aa0-95e5-2ddb03ba7438",
   "metadata": {},
   "outputs": [],
   "source": []
  }
 ],
 "metadata": {
  "kernelspec": {
   "display_name": "Python 3 (ipykernel)",
   "language": "python",
   "name": "python3"
  },
  "language_info": {
   "codemirror_mode": {
    "name": "ipython",
    "version": 3
   },
   "file_extension": ".py",
   "mimetype": "text/x-python",
   "name": "python",
   "nbconvert_exporter": "python",
   "pygments_lexer": "ipython3",
   "version": "3.11.0"
  }
 },
 "nbformat": 4,
 "nbformat_minor": 5
}
